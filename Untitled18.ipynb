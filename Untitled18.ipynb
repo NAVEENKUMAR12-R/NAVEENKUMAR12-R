{
  "nbformat": 4,
  "nbformat_minor": 0,
  "metadata": {
    "colab": {
      "provenance": [],
      "authorship_tag": "ABX9TyPmNAaF3Zu1add03iICl/K7",
      "include_colab_link": true
    },
    "kernelspec": {
      "name": "python3",
      "display_name": "Python 3"
    },
    "language_info": {
      "name": "python"
    }
  },
  "cells": [
    {
      "cell_type": "markdown",
      "metadata": {
        "id": "view-in-github",
        "colab_type": "text"
      },
      "source": [
        "<a href=\"https://colab.research.google.com/github/NAVEENKUMAR12-R/NAVEENKUMAR12-R/blob/main/Untitled18.ipynb\" target=\"_parent\"><img src=\"https://colab.research.google.com/assets/colab-badge.svg\" alt=\"Open In Colab\"/></a>"
      ]
    },
    {
      "cell_type": "code",
      "execution_count": 18,
      "metadata": {
        "colab": {
          "base_uri": "https://localhost:8080/"
        },
        "id": "GIJ4NyPZISuO",
        "outputId": "e1858ad7-6ca2-444c-fea1-1e8b3365635f"
      },
      "outputs": [
        {
          "output_type": "stream",
          "name": "stdout",
          "text": [
            "2\n",
            "40\n",
            "2\n",
            "40\n"
          ]
        }
      ],
      "source": [
        "a=10\n",
        "b=2\n",
        "c=a<<b\n",
        "e=a>>b\n",
        "print(e)\n",
        "print(c)\n",
        "d=a*2**b\n",
        "f=a//2**b\n",
        "print(f)\n",
        "print(d)"
      ]
    },
    {
      "cell_type": "code",
      "source": [
        "a=True\n",
        "b=False        # A B  or and     or(additon)    and(multiplication)\n",
        "c=a or b       # 0 0  1  1      0+0=0           0*0=0\n",
        "               # 0 1  1  1      0+1=1           0*1=0\n",
        "               # 1 0  1  1      1+0=1           1*0=0\n",
        "               # 1 1  1  1      1+1=1           1*1=1\n",
        "print(c)"
      ],
      "metadata": {
        "colab": {
          "base_uri": "https://localhost:8080/"
        },
        "id": "t-p16dYGMlPY",
        "outputId": "12a27113-003e-4065-c0c1-a408f39881bb"
      },
      "execution_count": 22,
      "outputs": [
        {
          "output_type": "stream",
          "name": "stdout",
          "text": [
            "True\n"
          ]
        }
      ]
    },
    {
      "cell_type": "code",
      "source": [
        "a = True\n",
        "b = False\n",
        "c = True\n",
        "\n",
        "# Combining 'and', 'or', and 'not' operators\n",
        "result = (a and b) or (not c)\n",
        "print(result)  # Output: False\n",
        "\n",
        "result = (a or b) and (not c)\n",
        "print(result)  # Output: False\n",
        "\n",
        "result = not (a and b) or c\n",
        "print(result)  # Output: True\n"
      ],
      "metadata": {
        "id": "llGaJmisOwJK"
      },
      "execution_count": null,
      "outputs": []
    },
    {
      "cell_type": "code",
      "source": [
        "def swap_numbers(a, b):\n",
        "    print(f\"Before swap: a = {a}, b = {b}\")\n",
        "\n",
        "    # Swap without a temporary variable\n",
        "    a = a + b\n",
        "    b = a - b\n",
        "    a = a - b\n",
        "\n",
        "    print(f\"After swap: a = {a}, b = {b}\")\n",
        "    return a, b\n",
        "\n",
        "# Example usage\n",
        "a = 5\n",
        "b = 10\n",
        "a, b = swap_numbers(a, b)\n"
      ],
      "metadata": {
        "id": "9Mc-D7a2Qw2q"
      },
      "execution_count": null,
      "outputs": []
    },
    {
      "cell_type": "code",
      "source": [
        "a=10\n",
        "b=15\n",
        "a,b=b,a\n",
        "print(a,b)"
      ],
      "metadata": {
        "colab": {
          "base_uri": "https://localhost:8080/"
        },
        "id": "YB0_keJkSjON",
        "outputId": "8c595604-2cbe-4df2-d119-753224ba16a6"
      },
      "execution_count": 23,
      "outputs": [
        {
          "output_type": "stream",
          "name": "stdout",
          "text": [
            "15 10\n"
          ]
        }
      ]
    },
    {
      "cell_type": "code",
      "source": [
        "i = 0\n",
        "j = 1\n",
        "c = (i + 1 == 1) and (j + 1==2)\n",
        "print(c)\n",
        "print(i, j)\n"
      ],
      "metadata": {
        "colab": {
          "base_uri": "https://localhost:8080/"
        },
        "id": "GCzF35cqTaSA",
        "outputId": "6e275759-c9b9-47ad-b42e-01ab489799f5"
      },
      "execution_count": 32,
      "outputs": [
        {
          "output_type": "stream",
          "name": "stdout",
          "text": [
            "True\n",
            "0 1\n"
          ]
        }
      ]
    }
  ]
}